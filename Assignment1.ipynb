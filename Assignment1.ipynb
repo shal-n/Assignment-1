{
  "nbformat": 4,
  "nbformat_minor": 0,
  "metadata": {
    "colab": {
      "name": "Assignment1.ipynb",
      "provenance": [],
      "collapsed_sections": [],
      "authorship_tag": "ABX9TyNyGzMjINVMCBcGO2ea+Ji0",
      "include_colab_link": true
    },
    "kernelspec": {
      "name": "python3",
      "display_name": "Python 3"
    }
  },
  "cells": [
    {
      "cell_type": "markdown",
      "metadata": {
        "id": "view-in-github",
        "colab_type": "text"
      },
      "source": [
        "<a href=\"https://colab.research.google.com/github/shal-n/Assignment-1/blob/master/Assignment1.ipynb\" target=\"_parent\"><img src=\"https://colab.research.google.com/assets/colab-badge.svg\" alt=\"Open In Colab\"/></a>"
      ]
    },
    {
      "cell_type": "markdown",
      "metadata": {
        "id": "9bmfKjmHSHfI",
        "colab_type": "text"
      },
      "source": [
        "                    **Session 1**\n",
        "Task 1:\n",
        "1. Install jupyter notebook and run the 1st program and share the  screen shot of the output\n"
      ]
    },
    {
      "cell_type": "code",
      "metadata": {
        "id": "xKrn5f-2SE5W",
        "colab_type": "code",
        "outputId": "12a29643-962b-45db-8595-23eba2562143",
        "colab": {
          "base_uri": "https://localhost:8080/",
          "height": 34
        }
      },
      "source": [
        "print(\"This is my first program \")"
      ],
      "execution_count": 0,
      "outputs": [
        {
          "output_type": "stream",
          "text": [
            "This is my first program \n"
          ],
          "name": "stdout"
        }
      ]
    },
    {
      "cell_type": "markdown",
      "metadata": {
        "id": "NAhORRbFTEMI",
        "colab_type": "text"
      },
      "source": [
        "2. Write a program which will find all such numbers. which are divisible by 7 but are not a multiple of 5, between 2000 and 3200(both included). The numbersWobtained should be printed in a comma-separated sequence on a single line.\n"
      ]
    },
    {
      "cell_type": "code",
      "metadata": {
        "id": "uRUH2ezHZSap",
        "colab_type": "code",
        "outputId": "0d453226-fb90-440d-e7f0-91935e6e4f1c",
        "colab": {
          "base_uri": "https://localhost:8080/",
          "height": 54
        }
      },
      "source": [
        "n = []\n",
        "for x in range(2000,3201):\n",
        "  if(x%7==0) and (x%5!=0):\n",
        "    n.append(str(x))\n",
        "print(','.join(n))"
      ],
      "execution_count": 0,
      "outputs": [
        {
          "output_type": "stream",
          "text": [
            "2002,2009,2016,2023,2037,2044,2051,2058,2072,2079,2086,2093,2107,2114,2121,2128,2142,2149,2156,2163,2177,2184,2191,2198,2212,2219,2226,2233,2247,2254,2261,2268,2282,2289,2296,2303,2317,2324,2331,2338,2352,2359,2366,2373,2387,2394,2401,2408,2422,2429,2436,2443,2457,2464,2471,2478,2492,2499,2506,2513,2527,2534,2541,2548,2562,2569,2576,2583,2597,2604,2611,2618,2632,2639,2646,2653,2667,2674,2681,2688,2702,2709,2716,2723,2737,2744,2751,2758,2772,2779,2786,2793,2807,2814,2821,2828,2842,2849,2856,2863,2877,2884,2891,2898,2912,2919,2926,2933,2947,2954,2961,2968,2982,2989,2996,3003,3017,3024,3031,3038,3052,3059,3066,3073,3087,3094,3101,3108,3122,3129,3136,3143,3157,3164,3171,3178,3192,3199\n"
          ],
          "name": "stdout"
        }
      ]
    },
    {
      "cell_type": "markdown",
      "metadata": {
        "id": "H6O8vVrjjkjG",
        "colab_type": "text"
      },
      "source": [
        "3. Write a python program to accept the user's first and last name and then getting them printed in the reverse order with a space between first name and last name \n"
      ]
    },
    {
      "cell_type": "code",
      "metadata": {
        "id": "RSmlrHPFkQwk",
        "colab_type": "code",
        "outputId": "d1f0e3c0-ed46-462f-bb15-7edf7a38c70b",
        "colab": {
          "base_uri": "https://localhost:8080/",
          "height": 68
        }
      },
      "source": [
        "x = input(\"Enter your first name \")\n",
        "y = input(\"Enter your last name \")\n",
        "print(y,\" \",x)"
      ],
      "execution_count": 0,
      "outputs": [
        {
          "output_type": "stream",
          "text": [
            "Enter your first name Shalini \n",
            "Enter your last name N\n",
            "N   Shalini \n"
          ],
          "name": "stdout"
        }
      ]
    },
    {
      "cell_type": "markdown",
      "metadata": {
        "id": "ASRLHnvJl89R",
        "colab_type": "text"
      },
      "source": [
        "4. write a python program to find the volume of a sphere with diameter 12 cm\n",
        "     formula: v=4/3* pi *r3"
      ]
    },
    {
      "cell_type": "code",
      "metadata": {
        "id": "qS4W2caEmryM",
        "colab_type": "code",
        "outputId": "1efae6db-3a34-4b90-b449-4a6eca67cb0a",
        "colab": {
          "base_uri": "https://localhost:8080/",
          "height": 34
        }
      },
      "source": [
        "d = 12.0\n",
        "r = d/2\n",
        "pi = 3.142\n",
        "v = 4/3*pi*r**3\n",
        "print(\"Volume of sphere is:\",v)"
      ],
      "execution_count": 0,
      "outputs": [
        {
          "output_type": "stream",
          "text": [
            "Volume of sphere is: 904.896\n"
          ],
          "name": "stdout"
        }
      ]
    },
    {
      "cell_type": "markdown",
      "metadata": {
        "id": "ETmYIh3tpFZM",
        "colab_type": "text"
      },
      "source": [
        "Task 2:\n",
        "1. Write a program which accepts a sequence of comma - separated number from console and generate a list"
      ]
    },
    {
      "cell_type": "code",
      "metadata": {
        "id": "Nhj6C301p0mJ",
        "colab_type": "code",
        "outputId": "a65433f8-ae2c-41aa-9a18-519a0a21ce5e",
        "colab": {
          "base_uri": "https://localhost:8080/",
          "height": 71
        }
      },
      "source": [
        "values = input(\"Enter sequence of numbers\")\n",
        "l = values.split(\",\")\n",
        "print(\"The sequence numbers is:\", l)"
      ],
      "execution_count": 0,
      "outputs": [
        {
          "output_type": "stream",
          "text": [
            "Enter sequence of numbers1,2,3,4,5\n",
            "The sequence numbers is: ['1', '2', '3', '4', '5']\n"
          ],
          "name": "stdout"
        }
      ]
    },
    {
      "cell_type": "markdown",
      "metadata": {
        "id": "8w7EdL5lrd9m",
        "colab_type": "text"
      },
      "source": [
        "2. Create the below pattern using nested for loop in python \n"
      ]
    },
    {
      "cell_type": "code",
      "metadata": {
        "id": "lBfdR1gfr2iF",
        "colab_type": "code",
        "outputId": "add463c7-9533-4cd8-a531-eb4febc3319b",
        "colab": {
          "base_uri": "https://localhost:8080/",
          "height": 188
        }
      },
      "source": [
        "n = 5\n",
        "for i in range(n):\n",
        "  for j in range(i):\n",
        "    print('*',end=\"\")\n",
        "  print(\"\")\n",
        "for i in range(n,0,-1):\n",
        "  for j in range(i):\n",
        "    print('*',end=\"\")\n",
        "  print(\"\")\n",
        "               "
      ],
      "execution_count": 0,
      "outputs": [
        {
          "output_type": "stream",
          "text": [
            "\n",
            "*\n",
            "**\n",
            "***\n",
            "****\n",
            "*****\n",
            "****\n",
            "***\n",
            "**\n",
            "*\n"
          ],
          "name": "stdout"
        }
      ]
    },
    {
      "cell_type": "markdown",
      "metadata": {
        "id": "6_nJsrKkt_sf",
        "colab_type": "text"
      },
      "source": [
        "3. Write a python program to reverse a word after accepting the input from the user\n",
        "sample: Acad Gild\n",
        "output: dilG dacA"
      ]
    },
    {
      "cell_type": "code",
      "metadata": {
        "id": "LxKX1sCyufWc",
        "colab_type": "code",
        "outputId": "72258c51-d97b-4959-d119-e389663f9e70",
        "colab": {
          "base_uri": "https://localhost:8080/",
          "height": 71
        }
      },
      "source": [
        "l = input(\"Enter a word :\")\n",
        "v = l[::-1]\n",
        "print(\"The reverse order of word is:\",v)\n",
        "      "
      ],
      "execution_count": 20,
      "outputs": [
        {
          "output_type": "stream",
          "text": [
            "Enter a word :Madam curie\n",
            "The reverse order of word is: eiruc madaM\n"
          ],
          "name": "stdout"
        }
      ]
    },
    {
      "cell_type": "markdown",
      "metadata": {
        "id": "WtmShELRwKr2",
        "colab_type": "text"
      },
      "source": [
        "4. Write a python program to print the given string in the format specified in the sample output\n",
        " WE, THE PEOPLE OF INDIA,\n",
        "    having solemnly resolved to constitute india in to a SOVEREIGN,!\n",
        "    SOCIALIST, SECULAR, DEMOCRATIC REPUBLIC\n",
        "    and to secure to all its citizens\n",
        "    "
      ]
    },
    {
      "cell_type": "code",
      "metadata": {
        "id": "tccVFR3q1G7_",
        "colab_type": "code",
        "colab": {
          "base_uri": "https://localhost:8080/",
          "height": 105
        },
        "outputId": "79d28780-6dc9-41a4-e3c0-10657d61a6be"
      },
      "source": [
        "print(\"WE,THE PEOPLE OF INDIA, \\n   having solemnly resolved to constitute india in to a SOVEREIGN ! \\n       SOCIALIST, SECULAR, DEMOCRATIC REPUBLIC \\n       and to secure to all its citizens\")"
      ],
      "execution_count": 25,
      "outputs": [
        {
          "output_type": "stream",
          "text": [
            "WE,THE PEOPLE OF INDIA, \n",
            "   having solemnly resolved to constitute india in to a SOVEREIGN ! \n",
            "       SOCIALIST, SECULAR, DEMOCRATIC REPUBLIC \n",
            "       and to secure to all its citizens\n"
          ],
          "name": "stdout"
        }
      ]
    }
  ]
}